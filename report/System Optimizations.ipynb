{
 "cells": [
  {
   "cell_type": "code",
   "execution_count": 198,
   "metadata": {},
   "outputs": [],
   "source": [
    "# Import Libs\n",
    "import math\n",
    "import numpy as np\n",
    "import matplotlib.pyplot as plt\n",
    "\n",
    "# Support LaTeX\n",
    "plt.rc('text', usetex=True)\n",
    "plt.rc('font', family='serif')"
   ]
  },
  {
   "cell_type": "code",
   "execution_count": 217,
   "metadata": {},
   "outputs": [],
   "source": [
    "def plot_system_results(system_name, ax, st_data, mt_data, xticks, counts):\n",
    "    bar_width = 0.45\n",
    "    \n",
    "    st_err = map(lambda x: x * 0.06, st_data)\n",
    "    mt_err = map(lambda x: x * 0.06, mt_data)\n",
    "    \n",
    "    highest = max(st_data + mt_data)\n",
    "    max_plot_value = 10 #math.ceil(highest) + math.ceil(highest) % 2\n",
    "    \n",
    "    ax.bar(xticks - bar_width / 2, st_data, bar_width, color=\"r\", yerr=st_err, capsize=5)\n",
    "    ax.bar(xticks + bar_width / 2, mt_data, bar_width, color=\"b\", yerr=mt_err, capsize=5)\n",
    "    \n",
    "    # Set up chart style\n",
    "    ax.grid(True, \"major\", \"y\")\n",
    "    ax.set_xticks(xticks)\n",
    "    ax.set_xticklabels(counts)\n",
    "    ax.set_title(f\"\\\\textbf{{{system_name}}}\", fontsize=16)\n",
    "    ax.set_xlabel(R\"\\textbf{Agent Count}\", fontsize=14)\n",
    "    ax.set_ylabel(R\"\\textbf{ms}\", fontsize=14)\n",
    "    ax.set_ylim(bottom=0.0, top = highest + highest * 0.1)\n",
    "    \n",
    "    y_ticks = []\n",
    "    for i in range(9):\n",
    "        y_ticks.append(round(highest * (i/7), 2))\n",
    "    ax.set_yticks(y_ticks)\n",
    "    \n",
    "    ax.legend((\"Single Threaded\", \"Multi Threaded\"))"
   ]
  },
  {
   "cell_type": "code",
   "execution_count": 218,
   "metadata": {},
   "outputs": [
    {
     "data": {
      "image/png": "[encoded data removed]",
      "text/plain": [
       "<Figure size 1080x324 with 3 Axes>"
      ]
     },
     "metadata": {
      "needs_background": "light"
     },
     "output_type": "display_data"
    }
   ],
   "source": [
    "# Axes and ticks\n",
    "system_names = (\"Memory System\", \"Vision System\")\n",
    "agent_counts = (100, 1000, 5000)\n",
    "xticks = np.arange(len(agent_counts))\n",
    "\n",
    "# Memory system data\n",
    "mem_st_msf = (0.085, 0.771, 3.725)\n",
    "mem_mt_msf = (0.0043, 0.384, 1.951)\n",
    "\n",
    "# Vision system data\n",
    "vis_st_msf = (0.086, 0.981, 8.580)\n",
    "vis_mt_msf = (0.277, 0.790, 2.899)\n",
    "\n",
    "# Movement system data\n",
    "mov_st_msf = (0.012, 0.118, 0.734)\n",
    "mov_mt_msf = (0.044, 0.292, 1.001)\n",
    "\n",
    "# Plot\n",
    "fig, axes = plt.subplots(1, 3, figsize = (15,4.5))\n",
    "\n",
    "plot_system_results(\"A: Movement system\", axes[0], mov_st_msf, mov_mt_msf, xticks, agent_counts)\n",
    "plot_system_results(\"B: Memory system\", axes[1], mem_st_msf, mem_mt_msf, xticks, agent_counts)\n",
    "plot_system_results(\"C: Vision system\", axes[2], vis_st_msf, vis_mt_msf, xticks, agent_counts)\n",
    "\n",
    "plt.show()\n",
    "fig.savefig(\"fig_st_vs_mt_performance_systems.pdf\", bbox_inches='tight')"
   ]
  }
 ],
 "metadata": {
  "kernelspec": {
   "display_name": "Python 3",
   "language": "python",
   "name": "python3"
  },
  "language_info": {
   "codemirror_mode": {
    "name": "ipython",
    "version": 3
   },
   "file_extension": ".py",
   "mimetype": "text/x-python",
   "name": "python",
   "nbconvert_exporter": "python",
   "pygments_lexer": "ipython3",
   "version": "3.8.2"
  }
 },
 "nbformat": 4,
 "nbformat_minor": 4
}
