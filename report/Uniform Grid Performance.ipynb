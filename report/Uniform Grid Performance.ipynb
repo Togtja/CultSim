{
 "cells": [
  {
   "cell_type": "code",
   "execution_count": 1,
   "metadata": {},
   "outputs": [],
   "source": [
    "# Import Libs\n",
    "import numpy as np\n",
    "import matplotlib.pyplot as plt\n",
    "\n",
    "# Support LaTeX\n",
    "plt.rc('text', usetex=True)\n",
    "plt.rc('font', family='serif')"
   ]
  },
  {
   "cell_type": "code",
   "execution_count": 34,
   "metadata": {},
   "outputs": [],
   "source": [
    "def plot_results(system_name, ax, a_data, b_data, c_data, xticks, counts):\n",
    "    bar_width = 0.3\n",
    "    \n",
    "    a_err = map(lambda x: x * 0.05, a_data)\n",
    "    b_err = map(lambda x: x * 0.05, b_data)\n",
    "    c_err = map(lambda x: x * 0.05, c_data)    \n",
    "    \n",
    "    ax.bar(xticks - bar_width, a_data, bar_width, color=\"r\", yerr=a_err, capsize=5)\n",
    "    ax.bar(xticks, b_data, bar_width, color=\"gold\", yerr=b_err, capsize=5)\n",
    "    ax.bar(xticks + bar_width, c_data, bar_width, color=\"b\", yerr=c_err, capsize=5)\n",
    "    \n",
    "    # Set up chart style\n",
    "    ax.grid(True, \"major\", \"y\")\n",
    "    ax.set_xticks(xticks)\n",
    "    ax.set_xticklabels(counts)\n",
    "    ax.set_title(f\"\\\\textbf{{{system_name}}}\", fontsize=15)\n",
    "    ax.set_xlabel(R\"\\textbf{Agent Count}\", fontsize=13)\n",
    "    ax.set_ylabel(R\"\\textbf{ms}\", fontsize=13)\n",
    "    ax.set_ylim(bottom=0.0)\n",
    "    if log:\n",
    "        ax.set_yscale(\"log\")\n",
    "    else:\n",
    "        ax.set_ylim(top=top)\n",
    "    ax.legend((\"Separated\", \"Clumped\", \"Random\"))\n"
   ]
  },
  {
   "cell_type": "code",
   "execution_count": 35,
   "metadata": {},
   "outputs": [
    {
     "data": {
      "image/png": "[encoded data removed]",
      "text/plain": [
       "<Figure size 720x360 with 2 Axes>"
      ]
     },
     "metadata": {
      "needs_background": "light"
     },
     "output_type": "display_data"
    }
   ],
   "source": [
    "# Axes and ticks\n",
    "system_names = (\"Memory System\", \"Vision System\")\n",
    "agent_counts = (100, 1000, 5000)\n",
    "xticks = np.arange(len(agent_counts))\n",
    "\n",
    "# Uniform Grid measurements\n",
    "ug_separated_msf = (0.1159, 0.2839, 0.8930)\n",
    "ug_clumped_msf = (0.4423, 4.353, 34.24)\n",
    "ug_random_msf = (0.2571, 0.7298, 3.09)\n",
    "\n",
    "# Plot\n",
    "fig, axes = plt.subplots(1, 2, figsize = (10,5))\n",
    "\n",
    "plot_system_results(\"Case vs Agent Count\", axes[0], ug_separated_msf, ug_clumped_msf, ug_random_msf, xticks, agent_counts, 5.0)\n",
    "\n",
    "axes[1].plot(agent_counts, ug_separated_msf, color=\"r\")\n",
    "axes[1].plot(agent_counts, ug_clumped_msf, color=\"gold\")\n",
    "axes[1].plot(agent_counts, ug_random_msf, color=\"b\")\n",
    "axes[1].legend((\"Separated\", \"Clumped\", \"Random\"))\n",
    "axes[1].set_xlabel(R\"\\textbf{Agent Count}\", fontsize=13)\n",
    "axes[1].set_ylabel(R\"\\textbf{ms}\", fontsize=13)\n",
    "axes[1].set_title(R\"\\textbf{Change}\", fontsize=15)\n",
    "\n",
    "plt.show()\n",
    "fig.savefig(\"fig_uniform_grid_cases.pdf\", bbox_inches='tight')"
   ]
  },
  {
   "cell_type": "code",
   "execution_count": null,
   "metadata": {},
   "outputs": [],
   "source": []
  }
 ],
 "metadata": {
  "kernelspec": {
   "display_name": "Python 3",
   "language": "python",
   "name": "python3"
  },
  "language_info": {
   "codemirror_mode": {
    "name": "ipython",
    "version": 3
   },
   "file_extension": ".py",
   "mimetype": "text/x-python",
   "name": "python",
   "nbconvert_exporter": "python",
   "pygments_lexer": "ipython3",
   "version": "3.8.2"
  }
 },
 "nbformat": 4,
 "nbformat_minor": 4
}
